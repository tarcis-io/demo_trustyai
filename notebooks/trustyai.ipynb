{
 "cells": [
  {
   "cell_type": "markdown",
   "id": "ef0b2609-354a-4dce-bbe4-aa20039bebbb",
   "metadata": {},
   "source": [
    "### **trustyai.ipynb**\n",
    "### **Demo of implementing Explainable AI (XAI) using TrustyAI**\n",
    "\n",
    "* ##### 01 - Setup\n",
    "* ##### 02 - Install packages\n",
    "* ##### 03 - Import packages\n",
    "* ##### 04 - Load dataset\n",
    "* ##### 05 - Prepare dataset\n",
    "* ##### 06 - Create model\n",
    "* ##### 07 - Run predictions\n",
    "* ##### 08 - Create TrustyAI model\n",
    "* ##### 09 - Local Interpretable Model-Agnostic Explanations (LIME)\n",
    "* ##### 10 - Shapley Additive Explanations (SHAP)\n",
    "* ##### 11 - Tyrus"
   ]
  },
  {
   "cell_type": "markdown",
   "id": "baf4aeb7-1078-4a03-b5bb-9fe40747bd8c",
   "metadata": {},
   "source": [
    "### 01 - Setup"
   ]
  },
  {
   "cell_type": "code",
   "execution_count": null,
   "id": "712ac940-b97b-4bec-8003-ee6b47f15699",
   "metadata": {
    "tags": []
   },
   "outputs": [],
   "source": [
    "from os  import environ, getenv\n",
    "from sys import executable"
   ]
  },
  {
   "cell_type": "code",
   "execution_count": null,
   "id": "34662274-e4a3-4ab5-8c1e-063e48b20346",
   "metadata": {
    "tags": []
   },
   "outputs": [],
   "source": [
    "if not getenv('JAVA_HOME'):\n",
    "\n",
    "    from subprocess import check_call\n",
    "    check_call([executable, '-m', 'pip', 'install', '--upgrade', 'install-jdk'])\n",
    "\n",
    "    from jdk import install\n",
    "    environ['JAVA_HOME'] = install('17')"
   ]
  },
  {
   "cell_type": "markdown",
   "id": "d4c3b985-104a-47bf-82a9-1817ca3c4241",
   "metadata": {},
   "source": [
    "### 02 - Install packages"
   ]
  },
  {
   "cell_type": "code",
   "execution_count": null,
   "id": "42c2b80c-b5a8-4069-a61a-c7d34a196a63",
   "metadata": {
    "tags": []
   },
   "outputs": [],
   "source": [
    "!{ executable } -m pip install --upgrade bokeh pandas scikit-learn trustyai xgboost"
   ]
  },
  {
   "cell_type": "markdown",
   "id": "4aff50af-5582-48df-a59d-a4a339b362ad",
   "metadata": {},
   "source": [
    "### 03 - Import packages"
   ]
  },
  {
   "cell_type": "code",
   "execution_count": null,
   "id": "5726b697-e7f4-4ad9-b4f0-9e5187d209fc",
   "metadata": {
    "tags": []
   },
   "outputs": [],
   "source": [
    "from bokeh.io                import output_notebook\n",
    "from pandas                  import read_csv\n",
    "from sklearn.model_selection import train_test_split\n",
    "from sklearn.preprocessing   import LabelEncoder\n",
    "from trustyai.explainers     import LimeExplainer, SHAPExplainer\n",
    "from trustyai.model          import Model\n",
    "from trustyai.utils.tyrus    import Tyrus\n",
    "from xgboost                 import XGBClassifier"
   ]
  },
  {
   "cell_type": "markdown",
   "id": "e5083943-0b06-497e-8ca4-dc62a725537c",
   "metadata": {},
   "source": [
    "### 04 - Load dataset"
   ]
  },
  {
   "cell_type": "code",
   "execution_count": null,
   "id": "8e23234d-1ae9-4b00-b412-51465c6b695e",
   "metadata": {
    "tags": []
   },
   "outputs": [],
   "source": [
    "dataset = read_csv('../datasets/loan.csv')"
   ]
  },
  {
   "cell_type": "code",
   "execution_count": null,
   "id": "8127784d-1e91-4044-a554-2cd43e243f08",
   "metadata": {
    "tags": []
   },
   "outputs": [],
   "source": [
    "dataset.head()"
   ]
  },
  {
   "cell_type": "markdown",
   "id": "f51978ce-95d2-4a5c-90d5-6b7e1ce63c93",
   "metadata": {},
   "source": [
    "### 05 - Prepare dataset"
   ]
  },
  {
   "cell_type": "code",
   "execution_count": null,
   "id": "b876ce6a-74d9-4fca-bfa8-38ff37fc6317",
   "metadata": {
    "tags": []
   },
   "outputs": [],
   "source": [
    "label_encoder = LabelEncoder()"
   ]
  },
  {
   "cell_type": "code",
   "execution_count": null,
   "id": "7ab009f9-8c82-4233-a908-a263f3f48b40",
   "metadata": {
    "tags": []
   },
   "outputs": [],
   "source": [
    "features = dataset.drop('Loan_ID', axis = 1).drop('Loan_Status', axis = 1)\n",
    "features = features.apply(label_encoder.fit_transform)"
   ]
  },
  {
   "cell_type": "code",
   "execution_count": null,
   "id": "6e37b71c-9595-47d5-946d-6799acf94812",
   "metadata": {
    "tags": []
   },
   "outputs": [],
   "source": [
    "labels = dataset[['Loan_Status']]\n",
    "labels = labels.apply(label_encoder.fit_transform)"
   ]
  },
  {
   "cell_type": "code",
   "execution_count": null,
   "id": "cf979851-abaf-4aea-a0a5-cd5e1801af41",
   "metadata": {
    "tags": []
   },
   "outputs": [],
   "source": [
    "features_train, features_test, labels_train, labels_test = train_test_split(features, labels)"
   ]
  },
  {
   "cell_type": "markdown",
   "id": "a1da02c7-cea7-4fa5-86d5-7378a12b2579",
   "metadata": {},
   "source": [
    "### 06 - Create model"
   ]
  },
  {
   "cell_type": "code",
   "execution_count": null,
   "id": "5cfa50dd-baad-4b8f-be12-b007f2f8d732",
   "metadata": {
    "tags": []
   },
   "outputs": [],
   "source": [
    "model = XGBClassifier()"
   ]
  },
  {
   "cell_type": "code",
   "execution_count": null,
   "id": "ae359d05-e413-494a-8feb-554f69592056",
   "metadata": {
    "tags": []
   },
   "outputs": [],
   "source": [
    "model.fit(features_train, labels_train)"
   ]
  },
  {
   "cell_type": "code",
   "execution_count": null,
   "id": "9c132527-6699-4fb0-bc91-1a5d9428e015",
   "metadata": {
    "tags": []
   },
   "outputs": [],
   "source": [
    "model.score(features_test, labels_test)"
   ]
  },
  {
   "cell_type": "markdown",
   "id": "6ccdf7d6-c692-4cf8-91ed-bd7f9c46d5ad",
   "metadata": {},
   "source": [
    "### 07 - Run predictions"
   ]
  },
  {
   "cell_type": "code",
   "execution_count": null,
   "id": "5462e5a5-8a43-46ef-84b0-78c7167d1ee8",
   "metadata": {
    "tags": []
   },
   "outputs": [],
   "source": [
    "example_0 = features_test.iloc[0]"
   ]
  },
  {
   "cell_type": "code",
   "execution_count": null,
   "id": "e5f946f3-6f27-4435-ab7b-39fab5f2059c",
   "metadata": {
    "tags": []
   },
   "outputs": [],
   "source": [
    "example_0"
   ]
  },
  {
   "cell_type": "code",
   "execution_count": null,
   "id": "d9c2fdce-ba5f-4028-a9d6-7e73f61ca561",
   "metadata": {
    "tags": []
   },
   "outputs": [],
   "source": [
    "example_1 = features_test.iloc[1]"
   ]
  },
  {
   "cell_type": "code",
   "execution_count": null,
   "id": "2ac4cfe6-81a2-43c8-837f-318f4ed81d20",
   "metadata": {
    "tags": []
   },
   "outputs": [],
   "source": [
    "example_1"
   ]
  },
  {
   "cell_type": "code",
   "execution_count": null,
   "id": "c23548f0-21e9-466e-9a44-f6ef99243a38",
   "metadata": {
    "tags": []
   },
   "outputs": [],
   "source": [
    "predictions = model.predict([example_0, example_1])"
   ]
  },
  {
   "cell_type": "code",
   "execution_count": null,
   "id": "c81418d7-2561-4cce-82a6-c510cbb9cc11",
   "metadata": {
    "tags": []
   },
   "outputs": [],
   "source": [
    "predictions"
   ]
  },
  {
   "cell_type": "markdown",
   "id": "b3b8b4c9-d78a-4682-b2cd-999491771d35",
   "metadata": {},
   "source": [
    "### 08 - Create TrustyAI model"
   ]
  },
  {
   "cell_type": "code",
   "execution_count": null,
   "id": "741f10c4-3ecd-45b2-a478-637489037d94",
   "metadata": {
    "tags": []
   },
   "outputs": [],
   "source": [
    "trustyai_model = Model(\n",
    "    fn              = model.predict,\n",
    "    feature_names   = list(features_train),\n",
    "    output_names    = list(labels_train),\n",
    "    dataframe_input = True\n",
    ")"
   ]
  },
  {
   "cell_type": "markdown",
   "id": "134153ce-47db-462b-b765-9b991ae84f11",
   "metadata": {},
   "source": [
    "### 09 - Local Interpretable Model-Agnostic Explanations (LIME)"
   ]
  },
  {
   "cell_type": "code",
   "execution_count": null,
   "id": "11e7aac4-0241-4ad3-8b9e-89e564df1e6a",
   "metadata": {
    "tags": []
   },
   "outputs": [],
   "source": [
    "lime_explainer = LimeExplainer()"
   ]
  },
  {
   "cell_type": "code",
   "execution_count": null,
   "id": "a24aeffc-2ac0-420f-bd5b-d1752a69e59d",
   "metadata": {
    "tags": []
   },
   "outputs": [],
   "source": [
    "lime_explanation_0 = lime_explainer.explain(\n",
    "    model   = trustyai_model,\n",
    "    inputs  = example_0.astype(float),\n",
    "    outputs = predictions[0]\n",
    ")"
   ]
  },
  {
   "cell_type": "code",
   "execution_count": null,
   "id": "6639a27b-b64d-4487-af65-a64c89815d09",
   "metadata": {
    "tags": []
   },
   "outputs": [],
   "source": [
    "lime_explanation_0.as_html()['Loan_Status']"
   ]
  },
  {
   "cell_type": "code",
   "execution_count": null,
   "id": "99d0f3fe-544d-466f-8762-f6e8ab98dc73",
   "metadata": {
    "tags": []
   },
   "outputs": [],
   "source": [
    "lime_explanation_1 = lime_explainer.explain(\n",
    "    model   = trustyai_model,\n",
    "    inputs  = example_1.astype(float),\n",
    "    outputs = predictions[1]\n",
    ")"
   ]
  },
  {
   "cell_type": "code",
   "execution_count": null,
   "id": "7292aa70-da91-46f5-bae4-567d2e97c24b",
   "metadata": {
    "tags": []
   },
   "outputs": [],
   "source": [
    "lime_explanation_1.as_html()['Loan_Status']"
   ]
  },
  {
   "cell_type": "markdown",
   "id": "f67dbcf4-272c-446f-aab4-9563301da311",
   "metadata": {},
   "source": [
    "### 10 - Shapley Additive Explanations (SHAP)"
   ]
  },
  {
   "cell_type": "code",
   "execution_count": null,
   "id": "e0964765-6e72-41a9-946e-c5d538b5f533",
   "metadata": {
    "tags": []
   },
   "outputs": [],
   "source": [
    "shap_explainer = SHAPExplainer(background = features_train[:100].astype(float))"
   ]
  },
  {
   "cell_type": "code",
   "execution_count": null,
   "id": "73f0de5c-ccdc-4a70-8281-f5370f0ce17f",
   "metadata": {
    "tags": []
   },
   "outputs": [],
   "source": [
    "shap_explanation_0 = shap_explainer.explain(\n",
    "    model   = trustyai_model,\n",
    "    inputs  = example_0.astype(float),\n",
    "    outputs = predictions[0]\n",
    ")"
   ]
  },
  {
   "cell_type": "code",
   "execution_count": null,
   "id": "0e671e4a-86ee-4e23-8eee-062cb70ca421",
   "metadata": {
    "tags": []
   },
   "outputs": [],
   "source": [
    "shap_explanation_0.as_html()['Loan_Status']"
   ]
  },
  {
   "cell_type": "code",
   "execution_count": null,
   "id": "ae7ba2e4-3cad-4429-a92e-5cbb558e3ff3",
   "metadata": {
    "tags": []
   },
   "outputs": [],
   "source": [
    "shap_explanation_1 = shap_explainer.explain(\n",
    "    model   = trustyai_model,\n",
    "    inputs  = example_1.astype(float),\n",
    "    outputs = predictions[1]\n",
    ")"
   ]
  },
  {
   "cell_type": "code",
   "execution_count": null,
   "id": "2ecfc740-0d2f-431c-850d-4b142efa0f83",
   "metadata": {
    "tags": []
   },
   "outputs": [],
   "source": [
    "shap_explanation_1.as_html()['Loan_Status']"
   ]
  },
  {
   "cell_type": "markdown",
   "id": "c879726a-d9e6-412f-bf85-4f6aed078648",
   "metadata": {},
   "source": [
    "### 11 - Tyrus"
   ]
  },
  {
   "cell_type": "code",
   "execution_count": null,
   "id": "b3546501-8a2d-4f20-b214-5d11379e1406",
   "metadata": {
    "tags": []
   },
   "outputs": [],
   "source": [
    "tyrus_0 = Tyrus(\n",
    "    background = features_train[:100].astype(float),\n",
    "    model      = trustyai_model,\n",
    "    inputs     = example_0.astype(float),\n",
    "    outputs    = predictions[0]\n",
    ")"
   ]
  },
  {
   "cell_type": "code",
   "execution_count": null,
   "id": "c4a6470a-ab4d-4ed0-b2aa-349f7113b8ac",
   "metadata": {
    "tags": []
   },
   "outputs": [],
   "source": [
    "output_notebook()"
   ]
  },
  {
   "cell_type": "code",
   "execution_count": null,
   "id": "c2bc3eb1-0eb7-45c7-bbcb-dcbe6b922e0c",
   "metadata": {
    "tags": []
   },
   "outputs": [],
   "source": [
    "tyrus_0.run()"
   ]
  },
  {
   "cell_type": "code",
   "execution_count": null,
   "id": "06e60fa2-8a7d-4d0f-9e67-267cbc06d968",
   "metadata": {
    "tags": []
   },
   "outputs": [],
   "source": [
    "tyrus_1 = Tyrus(\n",
    "    background = features_train[:100].astype(float),\n",
    "    model      = trustyai_model,\n",
    "    inputs     = example_1.astype(float),\n",
    "    outputs    = predictions[1]\n",
    ")"
   ]
  },
  {
   "cell_type": "code",
   "execution_count": null,
   "id": "fdb53559-9957-449e-ae9b-31a9ec3cf332",
   "metadata": {
    "tags": []
   },
   "outputs": [],
   "source": [
    "output_notebook()"
   ]
  },
  {
   "cell_type": "code",
   "execution_count": null,
   "id": "cd4f0e0b-4298-40d0-ade3-dcc4db28c16e",
   "metadata": {
    "tags": []
   },
   "outputs": [],
   "source": [
    "tyrus_1.run()"
   ]
  }
 ],
 "metadata": {
  "kernelspec": {
   "display_name": "Python 3.9",
   "language": "python",
   "name": "python3"
  },
  "language_info": {
   "codemirror_mode": {
    "name": "ipython",
    "version": 3
   },
   "file_extension": ".py",
   "mimetype": "text/x-python",
   "name": "python",
   "nbconvert_exporter": "python",
   "pygments_lexer": "ipython3",
   "version": "3.9.16"
  }
 },
 "nbformat": 4,
 "nbformat_minor": 5
}
